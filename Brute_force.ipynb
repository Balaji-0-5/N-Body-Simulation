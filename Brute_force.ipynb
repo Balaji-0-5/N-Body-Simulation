{
  "cells": [
    {
      "cell_type": "markdown",
      "metadata": {
        "id": "view-in-github",
        "colab_type": "text"
      },
      "source": [
        "<a href=\"https://colab.research.google.com/github/Balaji-0-5/N-Body-Simulation/blob/main/Brute_force.ipynb\" target=\"_parent\"><img src=\"https://colab.research.google.com/assets/colab-badge.svg\" alt=\"Open In Colab\"/></a>"
      ]
    },
    {
      "cell_type": "code",
      "execution_count": null,
      "metadata": {
        "id": "Mv_OoT_9E-6I"
      },
      "outputs": [],
      "source": [
        "#TODO \n",
        "#Write clean documentation for everything"
      ]
    },
    {
      "cell_type": "code",
      "execution_count": null,
      "metadata": {
        "id": "HatBUUb8pdvm"
      },
      "outputs": [],
      "source": [
        "from google.colab import files"
      ]
    },
    {
      "cell_type": "code",
      "execution_count": null,
      "metadata": {
        "colab": {
          "base_uri": "https://localhost:8080/"
        },
        "id": "SF6lvgN1aqNP",
        "outputId": "85a1175e-633f-49e2-d629-1ccd0d190dee"
      },
      "outputs": [
        {
          "output_type": "stream",
          "name": "stdout",
          "text": [
            "numpy : 1.22.4\n",
            "numba : 0.56.4\n",
            "json : 2.0.9\n"
          ]
        }
      ],
      "source": [
        "#imports\n",
        "import numpy as np\n",
        "import numba as nb\n",
        "import json\n",
        "print(\"numpy :\",np.__version__)\n",
        "print(\"numba :\",nb.__version__)\n",
        "print(\"json :\",json.__version__) "
      ]
    },
    {
      "cell_type": "code",
      "execution_count": null,
      "metadata": {
        "id": "uzJ23jvF7sfh"
      },
      "outputs": [],
      "source": [
        "np.random.seed(123)"
      ]
    },
    {
      "cell_type": "code",
      "execution_count": null,
      "metadata": {
        "id": "hwcIyXpa7r2Q"
      },
      "outputs": [],
      "source": [
        "# Define constants (in units of kpc, Msun, and Myr)\n",
        "G = 4.498768e-6 # kpc^3 / (Msun Myr^2)\n",
        "R0 = 8.0 # kpc (distance from Sun to Galactic center)\n",
        "M_bulge = 5e2 # Msun\n",
        "M_disk = 3e3 # Msun\n",
        "M_halo = 2e4 # Msun\n",
        "R_bulge = 0.2 # kpc (scale radius of bulge)\n",
        "R_disk = 0.7 # kpc (scale length of disk)\n",
        "R_halo = 3.0 # kpc (scale radius of halo)\n",
        "z0_disk = 0.05 # kpc (scale height of disk)\n",
        "z0_bulge = 0.02 # kpc (scale height of bulge)\n",
        "\n",
        "# Generate particle positions\n",
        "N_bulge = 1000\n",
        "N_disk = 10000\n",
        "N_halo = 9000\n",
        "N_tot = N_bulge + N_disk + N_halo\n",
        "\n",
        "# Generate positions and momenta for the bulge particles\n",
        "X_bulge = np.random.normal(scale=R_bulge, size=N_bulge)\n",
        "Y_bulge = np.random.normal(scale=R_bulge, size=N_bulge)\n",
        "Z_bulge = np.random.normal(scale=z0_bulge, size=N_bulge)\n",
        "R_bulge = np.sqrt(X_bulge**2 + Y_bulge**2 + Z_bulge**2)\n",
        "M_bulge_particle = M_bulge/N_bulge\n",
        "P_bulge = np.sqrt(2*M_bulge_particle*G*R_bulge**2/R_bulge)*(np.random.normal(size=N_bulge))\n",
        "Px_bulge = -P_bulge*X_bulge/R_bulge\n",
        "Py_bulge = -P_bulge*Y_bulge/R_bulge\n",
        "Pz_bulge = -P_bulge*Z_bulge/R_bulge\n",
        "\n",
        "# Generate positions and momenta for the disk particles\n",
        "R_disk = np.random.exponential(scale=R_disk, size=N_disk)\n",
        "phi_disk = np.random.uniform(0, 2*np.pi, size=N_disk)\n",
        "X_disk = R_disk*np.cos(phi_disk)\n",
        "Y_disk = R_disk*np.sin(phi_disk)\n",
        "Z_disk = np.random.normal(scale=z0_disk, size=N_disk)\n",
        "M_disk_particle = M_disk/N_disk\n",
        "P_disk = np.sqrt(2*M_disk_particle*G*R_disk)*np.sqrt(R0/R_disk)*(1 + np.random.normal(scale=0.1, size=N_disk))\n",
        "Px_disk = -P_disk*np.sin(phi_disk)\n",
        "Py_disk = P_disk*np.cos(phi_disk)\n",
        "Pz_disk = np.zeros(N_disk)\n",
        "\n",
        "# Generate positions and momenta for the halo particles\n",
        "R_halo = np.random.exponential(scale=R_halo, size=N_halo)\n",
        "phi_halo = np.random.uniform(0, 2*np.pi, size=N_halo)\n",
        "theta_halo = np.arccos(2*np.random.uniform(size=N_halo) - 1)\n",
        "X_halo = R_halo*np.sin(theta_halo)*np.cos(phi_halo)\n",
        "Y_halo = R_halo*np.sin(theta_halo)*np.sin(phi_halo)\n",
        "Z_halo = R_halo*np.cos(theta_halo)\n",
        "M_halo_particle = M_halo/N_halo\n",
        "P_halo = np.sqrt(2*M_halo_particle*G*R_halo)"
      ]
    },
    {
      "cell_type": "code",
      "execution_count": null,
      "metadata": {
        "id": "etreyR_aa3KW"
      },
      "outputs": [],
      "source": [
        "# Particle masses\n",
        "Masses = np.concatenate((np.full(N_bulge, M_bulge_particle),\n",
        "                         np.full(N_disk, M_disk_particle),\n",
        "                         np.full(N_halo, M_halo_particle)))\n",
        "\n",
        "# Particle positions\n",
        "X = np.concatenate((X_bulge, X_disk, X_halo))\n",
        "Y = np.concatenate((Y_bulge, Y_disk, Y_halo))\n",
        "Z = np.concatenate((Z_bulge, Z_disk, Z_halo))\n",
        "pos = np.array((X, Y, Z))\n",
        "\n",
        "# Particle momenta\n",
        "PX = np.concatenate((Px_bulge*M_bulge_particle, Px_disk*M_disk_particle, P_halo*M_halo_particle))\n",
        "PY = np.concatenate((Py_bulge*M_bulge_particle, Py_disk*M_disk_particle, P_halo*M_halo_particle))\n",
        "PZ = np.concatenate((Pz_bulge*M_bulge_particle, Pz_disk*M_disk_particle, P_halo*M_halo_particle))\n",
        "mom = np.array((PX, PY, PZ))\n",
        "\n",
        "dt = 0.2"
      ]
    },
    {
      "cell_type": "code",
      "execution_count": null,
      "metadata": {
        "id": "opDaql5BZ5Kn"
      },
      "outputs": [],
      "source": [
        "# Define the function to be accelerated\n",
        "@nb.njit(parallel=True,fastmath=True)\n",
        "def force_array(pos_arr, m_array, G, epsilon):\n",
        "    n = pos_arr.shape[1]\n",
        "    force_arr = np.zeros((3, n, n))\n",
        "    for i in nb.prange(n):\n",
        "        for j in nb.prange(i):\n",
        "            r = np.linalg.norm(pos_arr[:, i] - pos_arr[:, j])\n",
        "            softening_term = (r ** 2 + epsilon ** 2) ** (3/2)\n",
        "            force = G * m_array[i] * m_array[j] * (pos_arr[:, j] - pos_arr[:, i]) / softening_term\n",
        "            force_arr[:, i, j] = force\n",
        "            force_arr[:, j, i] = -force\n",
        "    return force_arr\n",
        "\n",
        "\n",
        "@nb.njit(parallel=True,fastmath=True)\n",
        "def update_momentum(step, mom_arr, force_arr):\n",
        "    n = mom_arr.shape[1]\n",
        "    del_mom = np.zeros_like(mom_arr)\n",
        "    for i in nb.prange(n):\n",
        "        for j in nb.prange(n):\n",
        "            if i != j:\n",
        "                del_mom[:, i] += step * force_arr[:, i, j]\n",
        "    return mom_arr + del_mom\n",
        "\n",
        "@nb.njit(parallel=True,fastmath=True)\n",
        "def update_position(step, pos_arr, new_mom, m_arr):\n",
        "    n = pos_arr.shape[1]\n",
        "    for i in nb.prange(n):\n",
        "        pos_arr[:, i] += step * new_mom[:, i] / m_arr[i]\n",
        "    return pos_arr \n",
        "\n",
        "@nb.njit(parallel=True,fastmath=True)\n",
        "def Run_sim(N_steps, pos_arr, mom_arr, mass_arr, start=0, dt=1.e-2, G=6.67408e-11,epsilon=0.01):\n",
        "    pos_data = np.zeros((3, len(pos_arr.transpose()),N_steps))\n",
        "    for i in range(start, N_steps):\n",
        "        force = force_array(pos_arr, mass_arr, G,epsilon)\n",
        "        mom_arr = update_momentum(dt, mom_arr, force)\n",
        "        pos_arr = update_position(dt, pos_arr, mom_arr, mass_arr)\n",
        "        pos_data[:, :, i] = pos_arr\n",
        "    \n",
        "    return pos_arr, mom_arr, pos_data\n",
        "\n",
        "def save_data(pos_arr,mom_arr,pos_data,N_steps,dt,Run):\n",
        "    data = {\"N_steps\":N_steps,\n",
        "            \"sim_time\":dt*N_steps,\n",
        "            \"sim_data_shape\":pos_data.shape,\n",
        "            \"pos_data\":pos_arr.tolist(),\n",
        "            \"mom_data\":mom_arr.tolist(),\n",
        "            \"sim_data\":pos_data.tolist()}\n",
        "    with open(\"Run_\"+str(Run)+\".json\", \"w\") as f:\n",
        "        json.dump(data, f, indent=4)\n",
        "\n",
        "    files.download(\"Run_\"+str(Run)+\".json\")\n"
      ]
    },
    {
      "cell_type": "code",
      "execution_count": null,
      "metadata": {
        "id": "dUhRV7zgs2aB"
      },
      "outputs": [],
      "source": [
        "N_steps = 50"
      ]
    },
    {
      "cell_type": "code",
      "execution_count": null,
      "metadata": {
        "id": "rGll6YattDdO"
      },
      "outputs": [],
      "source": [
        "Run = \"00001\""
      ]
    },
    {
      "cell_type": "code",
      "execution_count": null,
      "metadata": {
        "colab": {
          "base_uri": "https://localhost:8080/",
          "height": 34
        },
        "id": "K2ANNxlPqfmL",
        "outputId": "0eccef9d-7700-43a4-ce9e-14393fe5ce6f"
      },
      "outputs": [
        {
          "output_type": "display_data",
          "data": {
            "text/plain": [
              "<IPython.core.display.Javascript object>"
            ],
            "application/javascript": [
              "\n",
              "    async function download(id, filename, size) {\n",
              "      if (!google.colab.kernel.accessAllowed) {\n",
              "        return;\n",
              "      }\n",
              "      const div = document.createElement('div');\n",
              "      const label = document.createElement('label');\n",
              "      label.textContent = `Downloading \"${filename}\": `;\n",
              "      div.appendChild(label);\n",
              "      const progress = document.createElement('progress');\n",
              "      progress.max = size;\n",
              "      div.appendChild(progress);\n",
              "      document.body.appendChild(div);\n",
              "\n",
              "      const buffers = [];\n",
              "      let downloaded = 0;\n",
              "\n",
              "      const channel = await google.colab.kernel.comms.open(id);\n",
              "      // Send a message to notify the kernel that we're ready.\n",
              "      channel.send({})\n",
              "\n",
              "      for await (const message of channel.messages) {\n",
              "        // Send a message to notify the kernel that we're ready.\n",
              "        channel.send({})\n",
              "        if (message.buffers) {\n",
              "          for (const buffer of message.buffers) {\n",
              "            buffers.push(buffer);\n",
              "            downloaded += buffer.byteLength;\n",
              "            progress.value = downloaded;\n",
              "          }\n",
              "        }\n",
              "      }\n",
              "      const blob = new Blob(buffers, {type: 'application/binary'});\n",
              "      const a = document.createElement('a');\n",
              "      a.href = window.URL.createObjectURL(blob);\n",
              "      a.download = filename;\n",
              "      div.appendChild(a);\n",
              "      a.click();\n",
              "      div.remove();\n",
              "    }\n",
              "  "
            ]
          },
          "metadata": {}
        },
        {
          "output_type": "display_data",
          "data": {
            "text/plain": [
              "<IPython.core.display.Javascript object>"
            ],
            "application/javascript": [
              "download(\"download_6685e49c-fee4-4d2c-aeb4-39c87091ab9f\", \"Run_00001.json\", 116795428)"
            ]
          },
          "metadata": {}
        },
        {
          "output_type": "stream",
          "name": "stdout",
          "text": [
            "Run Successful\n"
          ]
        }
      ],
      "source": [
        "First_run = Run_sim(N_steps,pos,mom,Masses,dt=dt,G=G)\n",
        "\n",
        "pos_arr,mom_arr,pos_data = First_run\n",
        "\n",
        "save_data(pos_arr,mom_arr,pos_data,N_steps,dt,Run)\n",
        "\n",
        "print(\"Run Successful\")"
      ]
    },
    {
      "cell_type": "code",
      "source": [
        "Run = \"00002\""
      ],
      "metadata": {
        "id": "CjJv40a-w8zq"
      },
      "execution_count": null,
      "outputs": []
    },
    {
      "cell_type": "code",
      "source": [
        "Second_run = Run_sim(N_steps,pos_arr,mom_arr,Masses,dt=dt,G=G)\n",
        "\n",
        "pos_arr,mom_arr,pos_data = Second_run\n",
        "\n",
        "save_data(pos_arr,mom_arr,pos_data,N_steps,dt,Run)\n",
        "\n",
        "print(\"Run Successful\")"
      ],
      "metadata": {
        "colab": {
          "base_uri": "https://localhost:8080/",
          "height": 34
        },
        "id": "EvBH1vYoxBCA",
        "outputId": "cd556ac9-046e-48b4-e9cf-2d2a8b22a9c8"
      },
      "execution_count": null,
      "outputs": [
        {
          "output_type": "display_data",
          "data": {
            "text/plain": [
              "<IPython.core.display.Javascript object>"
            ],
            "application/javascript": [
              "\n",
              "    async function download(id, filename, size) {\n",
              "      if (!google.colab.kernel.accessAllowed) {\n",
              "        return;\n",
              "      }\n",
              "      const div = document.createElement('div');\n",
              "      const label = document.createElement('label');\n",
              "      label.textContent = `Downloading \"${filename}\": `;\n",
              "      div.appendChild(label);\n",
              "      const progress = document.createElement('progress');\n",
              "      progress.max = size;\n",
              "      div.appendChild(progress);\n",
              "      document.body.appendChild(div);\n",
              "\n",
              "      const buffers = [];\n",
              "      let downloaded = 0;\n",
              "\n",
              "      const channel = await google.colab.kernel.comms.open(id);\n",
              "      // Send a message to notify the kernel that we're ready.\n",
              "      channel.send({})\n",
              "\n",
              "      for await (const message of channel.messages) {\n",
              "        // Send a message to notify the kernel that we're ready.\n",
              "        channel.send({})\n",
              "        if (message.buffers) {\n",
              "          for (const buffer of message.buffers) {\n",
              "            buffers.push(buffer);\n",
              "            downloaded += buffer.byteLength;\n",
              "            progress.value = downloaded;\n",
              "          }\n",
              "        }\n",
              "      }\n",
              "      const blob = new Blob(buffers, {type: 'application/binary'});\n",
              "      const a = document.createElement('a');\n",
              "      a.href = window.URL.createObjectURL(blob);\n",
              "      a.download = filename;\n",
              "      div.appendChild(a);\n",
              "      a.click();\n",
              "      div.remove();\n",
              "    }\n",
              "  "
            ]
          },
          "metadata": {}
        },
        {
          "output_type": "display_data",
          "data": {
            "text/plain": [
              "<IPython.core.display.Javascript object>"
            ],
            "application/javascript": [
              "download(\"download_8132160f-0f3b-47d3-88c6-60bff1bb8d45\", \"Run_00002.json\", 116227153)"
            ]
          },
          "metadata": {}
        },
        {
          "output_type": "stream",
          "name": "stdout",
          "text": [
            "Run Successful\n"
          ]
        }
      ]
    },
    {
      "cell_type": "code",
      "execution_count": null,
      "metadata": {
        "id": "QXtOLzXEtsa-"
      },
      "outputs": [],
      "source": [
        "Run = \"00003\""
      ]
    },
    {
      "cell_type": "code",
      "execution_count": null,
      "metadata": {
        "colab": {
          "base_uri": "https://localhost:8080/",
          "height": 34
        },
        "id": "4iinw_wpnpgy",
        "outputId": "22608173-f68f-439c-9fe1-bdc35a8cc857"
      },
      "outputs": [
        {
          "output_type": "display_data",
          "data": {
            "text/plain": [
              "<IPython.core.display.Javascript object>"
            ],
            "application/javascript": [
              "\n",
              "    async function download(id, filename, size) {\n",
              "      if (!google.colab.kernel.accessAllowed) {\n",
              "        return;\n",
              "      }\n",
              "      const div = document.createElement('div');\n",
              "      const label = document.createElement('label');\n",
              "      label.textContent = `Downloading \"${filename}\": `;\n",
              "      div.appendChild(label);\n",
              "      const progress = document.createElement('progress');\n",
              "      progress.max = size;\n",
              "      div.appendChild(progress);\n",
              "      document.body.appendChild(div);\n",
              "\n",
              "      const buffers = [];\n",
              "      let downloaded = 0;\n",
              "\n",
              "      const channel = await google.colab.kernel.comms.open(id);\n",
              "      // Send a message to notify the kernel that we're ready.\n",
              "      channel.send({})\n",
              "\n",
              "      for await (const message of channel.messages) {\n",
              "        // Send a message to notify the kernel that we're ready.\n",
              "        channel.send({})\n",
              "        if (message.buffers) {\n",
              "          for (const buffer of message.buffers) {\n",
              "            buffers.push(buffer);\n",
              "            downloaded += buffer.byteLength;\n",
              "            progress.value = downloaded;\n",
              "          }\n",
              "        }\n",
              "      }\n",
              "      const blob = new Blob(buffers, {type: 'application/binary'});\n",
              "      const a = document.createElement('a');\n",
              "      a.href = window.URL.createObjectURL(blob);\n",
              "      a.download = filename;\n",
              "      div.appendChild(a);\n",
              "      a.click();\n",
              "      div.remove();\n",
              "    }\n",
              "  "
            ]
          },
          "metadata": {}
        },
        {
          "output_type": "display_data",
          "data": {
            "text/plain": [
              "<IPython.core.display.Javascript object>"
            ],
            "application/javascript": [
              "download(\"download_d13d5ab9-00e7-42b2-aee8-c5fb1395691a\", \"Run_00003.json\", 115898384)"
            ]
          },
          "metadata": {}
        },
        {
          "output_type": "stream",
          "name": "stdout",
          "text": [
            "Run Successful\n"
          ]
        }
      ],
      "source": [
        "third_run = Run_sim(N_steps,pos_arr,mom_arr,Masses,dt=dt,G=G)\n",
        "\n",
        "pos_arr,mom_arr,pos_data = third_run\n",
        "\n",
        "save_data(pos_arr,mom_arr,pos_data,N_steps,dt,Run)\n",
        "\n",
        "print(\"Run Successful\")"
      ]
    },
    {
      "cell_type": "code",
      "source": [
        "Run = \"00004\""
      ],
      "metadata": {
        "id": "y4fKRISZtOaP"
      },
      "execution_count": null,
      "outputs": []
    },
    {
      "cell_type": "code",
      "execution_count": null,
      "metadata": {
        "colab": {
          "base_uri": "https://localhost:8080/",
          "height": 34
        },
        "id": "6qGaT9gJZJTo",
        "outputId": "8e02c1af-1587-4a53-f4a4-84c0b80c5908"
      },
      "outputs": [
        {
          "output_type": "display_data",
          "data": {
            "text/plain": [
              "<IPython.core.display.Javascript object>"
            ],
            "application/javascript": [
              "\n",
              "    async function download(id, filename, size) {\n",
              "      if (!google.colab.kernel.accessAllowed) {\n",
              "        return;\n",
              "      }\n",
              "      const div = document.createElement('div');\n",
              "      const label = document.createElement('label');\n",
              "      label.textContent = `Downloading \"${filename}\": `;\n",
              "      div.appendChild(label);\n",
              "      const progress = document.createElement('progress');\n",
              "      progress.max = size;\n",
              "      div.appendChild(progress);\n",
              "      document.body.appendChild(div);\n",
              "\n",
              "      const buffers = [];\n",
              "      let downloaded = 0;\n",
              "\n",
              "      const channel = await google.colab.kernel.comms.open(id);\n",
              "      // Send a message to notify the kernel that we're ready.\n",
              "      channel.send({})\n",
              "\n",
              "      for await (const message of channel.messages) {\n",
              "        // Send a message to notify the kernel that we're ready.\n",
              "        channel.send({})\n",
              "        if (message.buffers) {\n",
              "          for (const buffer of message.buffers) {\n",
              "            buffers.push(buffer);\n",
              "            downloaded += buffer.byteLength;\n",
              "            progress.value = downloaded;\n",
              "          }\n",
              "        }\n",
              "      }\n",
              "      const blob = new Blob(buffers, {type: 'application/binary'});\n",
              "      const a = document.createElement('a');\n",
              "      a.href = window.URL.createObjectURL(blob);\n",
              "      a.download = filename;\n",
              "      div.appendChild(a);\n",
              "      a.click();\n",
              "      div.remove();\n",
              "    }\n",
              "  "
            ]
          },
          "metadata": {}
        },
        {
          "output_type": "display_data",
          "data": {
            "text/plain": [
              "<IPython.core.display.Javascript object>"
            ],
            "application/javascript": [
              "download(\"download_ab471d85-22e8-4f56-97cf-6b431c16bd4e\", \"Run_00004.json\", 115568944)"
            ]
          },
          "metadata": {}
        },
        {
          "output_type": "stream",
          "name": "stdout",
          "text": [
            "Run Successful\n"
          ]
        }
      ],
      "source": [
        "fourth_run = Run_sim(N_steps,pos_arr,mom_arr,Masses,dt=dt,G=G)\n",
        "\n",
        "pos_arr,mom_arr,pos_data = fourth_run\n",
        "\n",
        "save_data(pos_arr,mom_arr,pos_data,N_steps,dt,Run)\n",
        "\n",
        "print(\"Run Successful\")"
      ]
    },
    {
      "cell_type": "code",
      "source": [],
      "metadata": {
        "id": "QSsH76EiO9F2"
      },
      "execution_count": null,
      "outputs": []
    },
    {
      "cell_type": "code",
      "execution_count": null,
      "metadata": {
        "colab": {
          "base_uri": "https://localhost:8080/",
          "height": 260
        },
        "id": "Xu4eJQW1mFkk",
        "outputId": "efc242bc-a352-47a1-ad82-baec0460bab4"
      },
      "outputs": [
        {
          "output_type": "display_data",
          "data": {
            "text/plain": [
              "<Figure size 432x288 with 1 Axes>"
            ],
            "image/png": "[encoded data removed]"
          },
          "metadata": {
            "needs_background": "light"
          }
        }
      ],
      "source": [
        "import matplotlib.pyplot as plt\n",
        "from mpl_toolkits.mplot3d import Axes3D\n",
        "\n",
        "fig = plt.figure()\n",
        "ax = fig.add_subplot(111, projection='3d')\n",
        "\n",
        "# Plot bulge particles\n",
        "ax.scatter(X_bulge, Y_bulge, Z_bulge, c='r', alpha=0.5)\n",
        "\n",
        "# Plot disk particles\n",
        "ax.scatter(X_disk, Y_disk, Z_disk, c='g', alpha=0.5)\n",
        "\n",
        "# Plot halo particles\n",
        "ax.scatter(X_halo, Y_halo, Z_halo, c='b', alpha=0.5)\n",
        "\n",
        "# Set axis labels\n",
        "ax.set_xlabel('X (kpc)')\n",
        "ax.set_ylabel('Y (kpc)')\n",
        "ax.set_zlabel('Z (kpc)')\n",
        "\n",
        "# Set axis limits\n",
        "ax.set_xlim(-10, 10)\n",
        "ax.set_ylim(-10, 10)\n",
        "ax.set_zlim(-10, 10)\n",
        "\n",
        "# Save the figure\n",
        "plt.savefig(\"initial_config.png\")\n",
        "\n",
        "# Show the figure\n",
        "plt.show()\n"
      ]
    },
    {
      "cell_type": "code",
      "execution_count": null,
      "metadata": {
        "id": "R5c4A_hJfYIX"
      },
      "outputs": [],
      "source": []
    },
    {
      "cell_type": "markdown",
      "metadata": {
        "id": "vJ74Spb5mfBi"
      },
      "source": [
        "#Benchmarking\n",
        "\n",
        "take 23min for 10000particles with 100steps and take 4gbram .\n",
        "\n",
        "45 s   all for 1k particles\n",
        "\n",
        "46 s\n",
        "\n",
        "20 s\n",
        "\n",
        "only njit --> 36.2 s ± 603 ms per loop (mean ± std. dev. of 7 runs, 1 loop each)\n",
        "\n",
        "njit(fastmath=True) --> 35.8 s ± 267 ms per loop (mean ± std. dev. of 7 runs, 1 loop each)\n",
        "\n",
        "njit(parallel=True) --> 11 s ± 95.7 ms per loop (mean ± std. dev. of 7 runs, 1 loop each)\n",
        "\n",
        "12 min for 20k particles with 10 time steps\n",
        "\n",
        "1min 16s ± 4.37 s per loop (mean ± std. dev. of 7 runs, 1 loop each)  --> for 20k particles\n",
        "\n",
        "3min 40s ± 2.58 s per loop (mean ± std. dev. of 7 runs, 1 loop each)  --> 21k particles with galactic parameters"
      ]
    },
    {
      "cell_type": "code",
      "execution_count": null,
      "metadata": {
        "id": "giwwogZLkB7_"
      },
      "outputs": [],
      "source": []
    },
    {
      "cell_type": "code",
      "execution_count": null,
      "metadata": {
        "id": "oq2vxHC-dIPK"
      },
      "outputs": [],
      "source": []
    },
    {
      "cell_type": "code",
      "source": [
        "%timeit Run_sim(1,pos,mom,Masses,G=G)"
      ],
      "metadata": {
        "id": "f2uno-M3udVK"
      },
      "execution_count": null,
      "outputs": []
    }
  ],
  "metadata": {
    "colab": {
      "provenance": [],
      "authorship_tag": "ABX9TyNDd6w0K7VcUZwt2lAgTchw",
      "include_colab_link": true
    },
    "gpuClass": "standard",
    "kernelspec": {
      "display_name": "Python 3",
      "name": "python3"
    },
    "language_info": {
      "name": "python"
    }
  },
  "nbformat": 4,
  "nbformat_minor": 0
}