{
  "cells": [
    {
      "cell_type": "markdown",
      "metadata": {
        "id": "view-in-github",
        "colab_type": "text"
      },
      "source": [
        "<a href=\"https://colab.research.google.com/github/Balaji-0-5/N-Body-Simulation/blob/main/Brute_force.ipynb\" target=\"_parent\"><img src=\"https://colab.research.google.com/assets/colab-badge.svg\" alt=\"Open In Colab\"/></a>"
      ]
    },
    {
      "cell_type": "code",
      "execution_count": null,
      "metadata": {
        "colab": {
          "base_uri": "https://localhost:8080/"
        },
        "id": "SF6lvgN1aqNP",
        "outputId": "24f2c4e3-13f8-4851-cd73-48ae30dbdafd"
      },
      "outputs": [
        {
          "output_type": "stream",
          "name": "stdout",
          "text": [
            "numpy : 1.22.4\n",
            "numba : 0.56.4\n",
            "json : 2.0.9\n"
          ]
        }
      ],
      "source": [
        "import numpy as np\n",
        "import numba as nb\n",
        "import json\n",
        "from google.colab import files\n",
        "print(\"numpy :\",np.__version__)\n",
        "print(\"numba :\",nb.__version__)\n",
        "print(\"json :\",json.__version__) "
      ]
    },
    {
      "cell_type": "markdown",
      "source": [
        "The seed is an integer value that is used to initialize the random number generator. \n",
        "By setting the seed to a specific value, the random number generator will always produce \n",
        "the same sequence of numbers. This is useful for reproducibility of results."
      ],
      "metadata": {
        "id": "Zis0mvcilYiv"
      }
    },
    {
      "cell_type": "code",
      "execution_count": null,
      "metadata": {
        "id": "uzJ23jvF7sfh"
      },
      "outputs": [],
      "source": [
        "np.random.seed(123)# Set the seed for the random number generator"
      ]
    },
    {
      "cell_type": "markdown",
      "source": [
        "Defining the parameters of the simulation"
      ],
      "metadata": {
        "id": "fmzvlAc2ldfT"
      }
    },
    {
      "cell_type": "code",
      "execution_count": null,
      "metadata": {
        "id": "hwcIyXpa7r2Q"
      },
      "outputs": [],
      "source": [
        "# Define constants (in units of kpc, Msun, and Myr)\n",
        "G = 4.498768e-6 # kpc^3 / (Msun Myr^2)\n",
        "R0 = 8.0 # kpc (distance from Sun to Galactic center)\n",
        "M_bulge = 5e2 # Msun\n",
        "M_disk = 3e3 # Msun\n",
        "M_halo = 2e4 # Msun\n",
        "R_bulge = 0.2 # kpc (scale radius of bulge)\n",
        "R_disk = 0.7 # kpc (scale length of disk)\n",
        "R_halo = 3.0 # kpc (scale radius of halo)\n",
        "z0_disk = 0.05 # kpc (scale height of disk)\n",
        "z0_bulge = 0.02 # kpc (scale height of bulge)\n",
        "\n",
        "# Generate particle positions\n",
        "N_bulge = 1000\n",
        "N_disk = 10000\n",
        "N_halo = 9000\n",
        "N_tot = N_bulge + N_disk + N_halo\n",
        "\n",
        "# Generate positions and momenta for the bulge particles\n",
        "X_bulge = np.random.normal(scale=R_bulge, size=N_bulge)\n",
        "Y_bulge = np.random.normal(scale=R_bulge, size=N_bulge)\n",
        "Z_bulge = np.random.normal(scale=z0_bulge, size=N_bulge)\n",
        "R_bulge = np.sqrt(X_bulge**2 + Y_bulge**2 + Z_bulge**2)\n",
        "M_bulge_particle = M_bulge/N_bulge\n",
        "P_bulge = np.sqrt(2*M_bulge_particle*G*R_bulge**2/R_bulge)*(np.random.normal(size=N_bulge))\n",
        "Px_bulge = -P_bulge*X_bulge/R_bulge\n",
        "Py_bulge = -P_bulge*Y_bulge/R_bulge\n",
        "Pz_bulge = -P_bulge*Z_bulge/R_bulge\n",
        "\n",
        "# Generate positions and momenta for the disk particles\n",
        "R_disk = np.random.exponential(scale=R_disk, size=N_disk)\n",
        "phi_disk = np.random.uniform(0, 2*np.pi, size=N_disk)\n",
        "X_disk = R_disk*np.cos(phi_disk)\n",
        "Y_disk = R_disk*np.sin(phi_disk)\n",
        "Z_disk = np.random.normal(scale=z0_disk, size=N_disk)\n",
        "M_disk_particle = M_disk/N_disk\n",
        "P_disk = np.sqrt(2*M_disk_particle*G*R_disk)*np.sqrt(R0/R_disk)*(1 + np.random.normal(scale=0.1, size=N_disk))\n",
        "Px_disk = -P_disk*np.sin(phi_disk)\n",
        "Py_disk = P_disk*np.cos(phi_disk)\n",
        "Pz_disk = np.zeros(N_disk)\n",
        "\n",
        "# Generate positions and momenta for the halo particles\n",
        "R_halo = np.random.exponential(scale=R_halo, size=N_halo)\n",
        "phi_halo = np.random.uniform(0, 2*np.pi, size=N_halo)\n",
        "theta_halo = np.arccos(2*np.random.uniform(size=N_halo) - 1)\n",
        "X_halo = R_halo*np.sin(theta_halo)*np.cos(phi_halo)\n",
        "Y_halo = R_halo*np.sin(theta_halo)*np.sin(phi_halo)\n",
        "Z_halo = R_halo*np.cos(theta_halo)\n",
        "M_halo_particle = M_halo/N_halo\n",
        "P_halo = np.sqrt(2*M_halo_particle*G*R_halo)"
      ]
    },
    {
      "cell_type": "markdown",
      "source": [
        "Creating the data arrays"
      ],
      "metadata": {
        "id": "XlySR2mYltkc"
      }
    },
    {
      "cell_type": "code",
      "execution_count": null,
      "metadata": {
        "id": "etreyR_aa3KW"
      },
      "outputs": [],
      "source": [
        "# Particle masses\n",
        "Masses = np.concatenate((np.full(N_bulge, M_bulge_particle),\n",
        "                         np.full(N_disk, M_disk_particle),\n",
        "                         np.full(N_halo, M_halo_particle)))\n",
        "\n",
        "# Particle positions\n",
        "X = np.concatenate((X_bulge, X_disk, X_halo))\n",
        "Y = np.concatenate((Y_bulge, Y_disk, Y_halo))\n",
        "Z = np.concatenate((Z_bulge, Z_disk, Z_halo))\n",
        "pos = np.array((X, Y, Z))\n",
        "\n",
        "# Particle momenta\n",
        "PX = np.concatenate((Px_bulge*M_bulge_particle, Px_disk*M_disk_particle, P_halo*M_halo_particle))\n",
        "PY = np.concatenate((Py_bulge*M_bulge_particle, Py_disk*M_disk_particle, P_halo*M_halo_particle))\n",
        "PZ = np.concatenate((Pz_bulge*M_bulge_particle, Pz_disk*M_disk_particle, P_halo*M_halo_particle))\n",
        "mom = np.array((PX, PY, PZ))\n",
        "\n",
        "dt = 0.2"
      ]
    },
    {
      "cell_type": "markdown",
      "source": [
        "Algorithm to run the simulation. The algorithm is based on leap frog method. The code is modified to accomodate the softening term epsilon. \n",
        "This code works well for a collisionless system."
      ],
      "metadata": {
        "id": "HH61GUrnl1ej"
      }
    },
    {
      "cell_type": "code",
      "source": [
        "@nb.njit(parallel=True,fastmath=True) \n",
        "def force_array(pos_arr, m_array, G, epsilon):\n",
        "    \"\"\"\n",
        "    Calculates the force between two particles.\n",
        "    \n",
        "    Parameters\n",
        "    ----------\n",
        "    pos_arr : numpy array\n",
        "        An array containing the positions of the particles.\n",
        "    m_array : numpy array\n",
        "        An array containing the masses of the particles.\n",
        "    G : float\n",
        "        The gravitational constant.\n",
        "    epsilon : float\n",
        "        The softening parameter.\n",
        "    \n",
        "    Returns\n",
        "    -------\n",
        "    force_arr : numpy array\n",
        "        An array containing the forces between the particles.\n",
        "    \n",
        "    \"\"\"\n",
        "    n = pos_arr.shape[1]\n",
        "    force_arr = np.zeros((3, n, n))\n",
        "    for i in nb.prange(n):\n",
        "        for j in nb.prange(i):\n",
        "            r = np.linalg.norm(pos_arr[:, i] - pos_arr[:, j])\n",
        "            softening_term = (r ** 2 + epsilon ** 2) ** (3/2)\n",
        "            force = G * m_array[i] * m_array[j] * (pos_arr[:, j] - pos_arr[:, i]) / softening_term\n",
        "            force_arr[:, i, j] = force\n",
        "            force_arr[:, j, i] = -force\n",
        "    return force_arr\n",
        "\n",
        "\n",
        "@nb.njit(parallel=True,fastmath=True)\n",
        "def update_momentum(step, mom_arr, force_arr):\n",
        "    \"\"\"\n",
        "    Updates the momentum of the particles.\n",
        "    \n",
        "    Parameters\n",
        "    ----------\n",
        "    step : float\n",
        "        The time step of the simulation.\n",
        "    mom_arr : numpy array\n",
        "        An array containing the momenta of the particles.\n",
        "    force_arr : numpy array\n",
        "        An array containing the forces between the particles.\n",
        "    \n",
        "    Returns\n",
        "    -------\n",
        "    new_mom : numpy array\n",
        "        An array containing the updated momenta of the particles.\n",
        "    \n",
        "    \"\"\"\n",
        "    n = mom_arr.shape[1]\n",
        "    del_mom = np.zeros_like(mom_arr)\n",
        "    for i in nb.prange(n):\n",
        "        for j in nb.prange(n):\n",
        "            if i != j:\n",
        "                del_mom[:, i] += step * force_arr[:, i, j]\n",
        "    return mom_arr + del_mom\n",
        "\n",
        "@nb.njit(parallel=True,fastmath=True)\n",
        "def update_position(step, pos_arr, new_mom, m_arr):\n",
        "    \"\"\"\n",
        "    Updates the position of the particles.\n",
        "    \n",
        "    Parameters\n",
        "    ----------\n",
        "    step : float\n",
        "        The time step of the simulation.\n",
        "    pos_arr : numpy array\n",
        "        An array containing the positions of the particles.\n",
        "    new_mom : numpy array\n",
        "        An array containing the updated momenta of the particles.\n",
        "    m_arr : numpy array\n",
        "        An array containing the masses of the particles.\n",
        "    \n",
        "    Returns\n",
        "    -------\n",
        "    pos_arr : numpy array\n",
        "        An array containing the updated positions of the particles.\n",
        "    \n",
        "    \"\"\"\n",
        "    n = pos_arr.shape[1]\n",
        "    for i in nb.prange(n):\n",
        "        pos_arr[:, i] += step * new_mom[:, i] / m_arr[i]\n",
        "    return pos_arr \n",
        "\n",
        "@nb.njit(parallel=True,fastmath=True)\n",
        "def Run_sim(N_steps, pos_arr, mom_arr, mass_arr, start=0, dt=1.e-2, G=6.67408e-11,epsilon=0.01):\n",
        "    \"\"\"\n",
        "    This function runs a simulation of the motion of particles in a 3D space.\n",
        "    \n",
        "    Parameters\n",
        "    ----------\n",
        "    N_steps : int\n",
        "        The number of steps in the simulation.\n",
        "    pos_arr : numpy array\n",
        "        An array containing the initial positions of the particles.\n",
        "    mom_arr : numpy array\n",
        "        An array containing the initial momenta of the particles.\n",
        "    mass_arr : numpy array\n",
        "        An array containing the masses of the particles.\n",
        "    start : int, optional\n",
        "        The starting step of the simulation. Default is 0.\n",
        "    dt : float, optional\n",
        "        The time step of the simulation. Default is 1.e-2.\n",
        "    G : float, optional\n",
        "        The gravitational constant. Default is 6.67408e-11.\n",
        "    epsilon : float, optional\n",
        "        The softening parameter. Default is 0.01.\n",
        "    \n",
        "    Returns\n",
        "    -------\n",
        "    pos_arr : numpy array\n",
        "        An array containing the positions of the particles after the simulation.\n",
        "    mom_arr : numpy array\n",
        "        An array containing the momenta of the particles after the simulation.\n",
        "    pos_data : numpy array\n",
        "        An array containing the positions of the particles at each step of the simulation.\n",
        "    \n",
        "    \"\"\"\n",
        "    pos_data = np.zeros((3, len(pos_arr.transpose()),N_steps))\n",
        "    for i in range(start, N_steps):\n",
        "        force = force_array(pos_arr, mass_arr, G,epsilon)\n",
        "        mom_arr = update_momentum(dt, mom_arr, force)\n",
        "        pos_arr = update_position(dt, pos_arr, mom_arr, mass_arr)\n",
        "        pos_data[:, :, i] = pos_arr\n",
        "    \n",
        "    return pos_arr, mom_arr, pos_data"
      ],
      "metadata": {
        "id": "kEnh8AUr6gGb"
      },
      "execution_count": null,
      "outputs": []
    },
    {
      "cell_type": "markdown",
      "source": [
        "To save the data in a json file to analyse th results later."
      ],
      "metadata": {
        "id": "tCWRYtNImbnE"
      }
    },
    {
      "cell_type": "code",
      "source": [
        "def save_data(pos_arr, mom_arr, pos_data, N_steps, dt, Run):\n",
        "    \"\"\"\n",
        "    This function saves the data from a simulation run to a json file.\n",
        "\n",
        "    Parameters\n",
        "    ----------\n",
        "    pos_arr : numpy array\n",
        "        Array containing the positions of the particles.\n",
        "    mom_arr : numpy array\n",
        "        Array containing the momenta of the particles.\n",
        "    pos_data : numpy array\n",
        "        Array containing the positions of the particles at each time step.\n",
        "    N_steps : int\n",
        "        Number of time steps in the simulation.\n",
        "    dt : float\n",
        "        Time step size.\n",
        "    Run : int\n",
        "        Number of the simulation run.\n",
        "\n",
        "    Returns\n",
        "    -------\n",
        "    None\n",
        "        This function does not return anything.\n",
        "    \"\"\"\n",
        "\n",
        "    # Create a dictionary containing the data to be saved\n",
        "    data = {\"N_steps\": N_steps,\n",
        "            \"sim_time\": dt*N_steps,\n",
        "            \"sim_data_shape\": pos_data.shape,\n",
        "            \"pos_data\": pos_arr.tolist(),\n",
        "            \"mom_data\": mom_arr.tolist(),\n",
        "            \"sim_data\": pos_data.tolist()}\n",
        "\n",
        "    # Open a json file with the name \"Run_<Run>.json\"\n",
        "    with open(\"Run_\"+str(Run)+\".json\", \"w\") as f:\n",
        "        # Dump the data dictionary to the json file\n",
        "        json.dump(data, f, indent=4)\n",
        "\n",
        "    # Download the json file\n",
        "    files.download(\"Run_\"+str(Run)+\".json\")"
      ],
      "metadata": {
        "id": "9qMcJ_q7kLm8"
      },
      "execution_count": null,
      "outputs": []
    },
    {
      "cell_type": "markdown",
      "source": [
        "Save the inital parameters into a json file."
      ],
      "metadata": {
        "id": "NI9qGlU6TThl"
      }
    },
    {
      "cell_type": "code",
      "source": [
        "# Combine all the data into a dictionary\n",
        "data = {\n",
        "    \"units\" : {\"length\": \"kpc\",\"mass\": \"Msun\", \"time\" : \"Myr\"},\n",
        "    \"G\": G,\n",
        "    \"R0\": R0,\n",
        "    \"M_bulge\": M_bulge,\n",
        "    \"M_disk\": M_disk,\n",
        "    \"M_halo\": M_halo,\n",
        "    \"Total_syatem_mass\": M_bulge+M_disk+M_halo,\n",
        "    \"R_bulge\": R_bulge,\n",
        "    \"R_disk\": R_disk,\n",
        "    \"R_halo\": R_halo,\n",
        "    \"z0_disk\": z0_disk,\n",
        "    \"z0_bulge\": z0_bulge,\n",
        "    \"N_bulge\": N_bulge,\n",
        "    \"N_disk\": N_disk,\n",
        "    \"N_halo\": N_halo,\n",
        "    \"Mass_min\" : np.min(Masses),\n",
        "    \"Mass_max\" : np.max(Masses),\n",
        "    \"Mass_avg\" : np.mean(Masses),\n",
        "    \"Pos_min\" : np.min(pos),\n",
        "    \"Pos_max\" : np.max(pos),\n",
        "    \"Pos_avg\" : np.mean(pos),\n",
        "    \"Mom_min\" : np.min(mom),\n",
        "    \"Mom_max\" : np.max(mom),\n",
        "    \"Mom_avg\" : np.mean(mom),\n",
        "    \"pos_mom_shape\": pos.shape,\n",
        "    \"mass_shape\" : Masses.shape,\n",
        "    \"Masses\": Masses.tolist(),\n",
        "    \"pos\": pos.tolist(),\n",
        "    \"mom\": mom.tolist(),\n",
        "    \"dt\": dt\n",
        "}\n",
        "\n",
        "# Save the data to a JSON file\n",
        "with open(\"initial_parameters.json\", \"w\") as f:\n",
        "    json.dump(data, f, indent=4)\n",
        "\n",
        "\n"
      ],
      "metadata": {
        "id": "TqKwLqRWTFww"
      },
      "execution_count": null,
      "outputs": []
    },
    {
      "cell_type": "markdown",
      "source": [
        "Define the number of time steps for each run. For simulating the evolution of particles over very long periods of times it is advisable to divide it into small time periods and executing multiple runs."
      ],
      "metadata": {
        "id": "dcndwVtPqyfd"
      }
    },
    {
      "cell_type": "code",
      "execution_count": null,
      "metadata": {
        "id": "dUhRV7zgs2aB"
      },
      "outputs": [],
      "source": [
        "N_steps = 50"
      ]
    },
    {
      "cell_type": "markdown",
      "source": [
        "Running the program and saving the file "
      ],
      "metadata": {
        "id": "Q2e4-sTjmtVc"
      }
    },
    {
      "cell_type": "code",
      "execution_count": null,
      "metadata": {
        "id": "rGll6YattDdO"
      },
      "outputs": [],
      "source": [
        "Run = \"00001\""
      ]
    },
    {
      "cell_type": "code",
      "execution_count": null,
      "metadata": {
        "id": "K2ANNxlPqfmL"
      },
      "outputs": [],
      "source": [
        "First_run = Run_sim(N_steps,pos,mom,Masses,dt=dt,G=G)\n",
        "\n",
        "pos_arr,mom_arr,pos_data = First_run\n",
        "\n",
        "save_data(pos_arr,mom_arr,pos_data,N_steps,dt,Run)\n",
        "\n",
        "print(\"Run Successful\")"
      ]
    },
    {
      "cell_type": "markdown",
      "source": [
        "After completing a run, the next run is executed by taking the data from previous run as input."
      ],
      "metadata": {
        "id": "o3Yc_e76nAhA"
      }
    },
    {
      "cell_type": "code",
      "execution_count": null,
      "metadata": {
        "id": "CjJv40a-w8zq"
      },
      "outputs": [],
      "source": [
        "Run = \"00002\""
      ]
    },
    {
      "cell_type": "code",
      "execution_count": null,
      "metadata": {
        "colab": {
          "background_save": true
        },
        "id": "EvBH1vYoxBCA"
      },
      "outputs": [],
      "source": [
        "Second_run = Run_sim(N_steps,pos_arr,mom_arr,Masses,dt=dt,G=G)\n",
        "\n",
        "pos_arr,mom_arr,pos_data = Second_run\n",
        "\n",
        "save_data(pos_arr,mom_arr,pos_data,N_steps,dt,Run)\n",
        "\n",
        "print(\"Run Successful\")"
      ]
    },
    {
      "cell_type": "markdown",
      "source": [
        "The simulation can be executed at a later time or in a different system by running the following code."
      ],
      "metadata": {
        "id": "9E3IeWcRnsn6"
      }
    },
    {
      "cell_type": "code",
      "execution_count": null,
      "metadata": {
        "id": "Q_h_gq1vHb-C"
      },
      "outputs": [],
      "source": [
        "with open(\"/content/Run_00002.json\",\"r\") as f:\n",
        "  data = json.load(f)"
      ]
    },
    {
      "cell_type": "code",
      "source": [
        "with open(\"/content/initial_parameters.json\",\"r\") as f:\n",
        "  mass_data = json.load(f)"
      ],
      "metadata": {
        "id": "dXIwyEfCrUjs"
      },
      "execution_count": null,
      "outputs": []
    },
    {
      "cell_type": "code",
      "execution_count": null,
      "metadata": {
        "id": "-phX_XyxOQ4h"
      },
      "outputs": [],
      "source": [
        "pos_arr = np.array(data[\"pos_data\"]).reshape((3,20000))\n",
        "mom_arr = np.array(data[\"mom_data\"]).reshape((3,20000))"
      ]
    },
    {
      "cell_type": "code",
      "source": [
        "Masses = np.array(mass_data[\"Masses\"]).reshape((20000,))"
      ],
      "metadata": {
        "id": "R3xUTwkArfHl"
      },
      "execution_count": null,
      "outputs": []
    },
    {
      "cell_type": "code",
      "execution_count": null,
      "metadata": {
        "id": "4iinw_wpnpgy"
      },
      "outputs": [],
      "source": [
        "third_run = Run_sim(N_steps,pos_arr,mom_arr,Masses,dt=dt,G=G)\n",
        "\n",
        "pos_arr,mom_arr,pos_data = third_run\n",
        "\n",
        "save_data(pos_arr,mom_arr,pos_data,N_steps,dt,Run)\n",
        "\n",
        "print(\"Run Successful\")"
      ]
    },
    {
      "cell_type": "code",
      "execution_count": null,
      "metadata": {
        "id": "y4fKRISZtOaP"
      },
      "outputs": [],
      "source": [
        "Run = \"00004\""
      ]
    },
    {
      "cell_type": "code",
      "execution_count": null,
      "metadata": {
        "id": "6qGaT9gJZJTo"
      },
      "outputs": [],
      "source": [
        "fourth_run = Run_sim(N_steps,pos_arr,mom_arr,Masses,dt=dt,G=G)\n",
        "\n",
        "pos_arr,mom_arr,pos_data = fourth_run\n",
        "\n",
        "save_data(pos_arr,mom_arr,pos_data,N_steps,dt,Run)\n",
        "\n",
        "print(\"Run Successful\")"
      ]
    },
    {
      "cell_type": "markdown",
      "source": [
        "One can execute the runs as many times they want."
      ],
      "metadata": {
        "id": "omMVGlRBovdV"
      }
    },
    {
      "cell_type": "code",
      "execution_count": null,
      "metadata": {
        "id": "H_4ezdbhZUnH"
      },
      "outputs": [],
      "source": []
    },
    {
      "cell_type": "code",
      "execution_count": null,
      "metadata": {
        "id": "-O9N5Y5pZUgr"
      },
      "outputs": [],
      "source": []
    },
    {
      "cell_type": "code",
      "execution_count": null,
      "metadata": {
        "id": "_Yd3U7ZgZUb_"
      },
      "outputs": [],
      "source": []
    },
    {
      "cell_type": "code",
      "execution_count": null,
      "metadata": {
        "id": "D-JQFY6lZUQw"
      },
      "outputs": [],
      "source": []
    },
    {
      "cell_type": "markdown",
      "metadata": {
        "id": "vJ74Spb5mfBi"
      },
      "source": [
        "#Benchmarking\n",
        "\n",
        "Took 23min for 10000particles with 100steps and take 4gbram .\n",
        "\n",
        "45 s   all for 1k particles\n",
        "\n",
        "only njit --> 36.2 s ± 603 ms per loop (mean ± std. dev. of 7 runs, 1 loop each)\n",
        "\n",
        "njit(fastmath=True) --> 35.8 s ± 267 ms per loop (mean ± std. dev. of 7 runs, 1 loop each)\n",
        "\n",
        "njit(parallel=True) --> 11 s ± 95.7 ms per loop (mean ± std. dev. of 7 runs, 1 loop each)\n",
        "\n",
        "12 min for 20k particles with 10 time steps\n",
        "\n",
        "1min 16s ± 4.37 s per loop (mean ± std. dev. of 7 runs, 1 loop each)  --> for 20k particles\n",
        "\n",
        "3min 40s ± 2.58 s per loop (mean ± std. dev. of 7 runs, 1 loop each)  --> 21k particles with galactic parameters"
      ]
    },
    {
      "cell_type": "code",
      "execution_count": null,
      "metadata": {
        "id": "f2uno-M3udVK"
      },
      "outputs": [],
      "source": [
        "%timeit Run_sim(1,pos,mom,Masses,G=G)"
      ]
    },
    {
      "cell_type": "markdown",
      "source": [
        "This is for benchmarking the code."
      ],
      "metadata": {
        "id": "uuL2nVhYo740"
      }
    },
    {
      "cell_type": "code",
      "execution_count": null,
      "metadata": {
        "id": "A1y-KtbEZUHa"
      },
      "outputs": [],
      "source": [
        "import time\n",
        "# Define a function to run the simulation for a given value of n\n",
        "def run_simulation(n):\n",
        "    # Define your simulation code here, using the value of n to set up the simulation\n",
        "    # The simulation was benchmarked for random values of position and momentum values.\n",
        "    pos_arr = np.random.rand(3, n)\n",
        "    mom_arr = np.random.rand(3, n)\n",
        "    mass_arr = np.ones(n)\n",
        "    pos_arr, mom_arr, pos_data = Run_sim(1, pos_arr, mom_arr, mass_arr)\n",
        "\n",
        "    # Return the total simulation time for benchmarking purposes\n",
        "    return None\n",
        "\n",
        "total_times = []\n",
        "# Define a list of values of n to test\n",
        "n_values = [10, 50, 100, 500, 1000, 5000, 10000,15000, 20000]\n",
        "\n",
        "# Run the simulation for each value of n and print the results\n",
        "for n in n_values:\n",
        "    start_time = time.time()\n",
        "    run_simulation(n)\n",
        "    end_time = time.time()\n",
        "    elapsed_time = end_time - start_time\n",
        "    total_times.append(elapsed_time)\n",
        "\n",
        "    print(f\"n = {n},total time = {elapsed_time:.3f}s\")\n"
      ]
    },
    {
      "cell_type": "code",
      "source": [
        "np.save(\"sim_times.npy\",np.array((n_values,total_times)))#Saves the data as numpy file"
      ],
      "metadata": {
        "id": "5zB4dhTxhBk0"
      },
      "execution_count": null,
      "outputs": []
    },
    {
      "cell_type": "code",
      "execution_count": null,
      "metadata": {
        "id": "t-_sG52PZT_E",
        "colab": {
          "base_uri": "https://localhost:8080/",
          "height": 449
        },
        "outputId": "5ffe6991-0aa8-4ba3-d722-22596614e11d"
      },
      "outputs": [
        {
          "output_type": "display_data",
          "data": {
            "text/plain": [
              "<Figure size 640x480 with 1 Axes>"
            ],
            "image/png": "[encoded data removed]"
          },
          "metadata": {}
        }
      ],
      "source": [
        "import matplotlib.pyplot as plt\n",
        "\n",
        "fig, ax = plt.subplots()\n",
        "ax.plot(n_values, total_times, 'o-')\n",
        "ax.set_xlabel('Number of particles (N)')\n",
        "ax.set_ylabel('Simulation time (s)')\n",
        "fig.savefig('simulation_times.png')"
      ]
    },
    {
      "cell_type": "code",
      "source": [
        "memory_usage = [0.0, 0.0, 0.0, 4.39453125, 17.09375, 800, 2200, 5000, 9000]"
      ],
      "metadata": {
        "id": "KTwa8LxXvpyM"
      },
      "execution_count": null,
      "outputs": []
    },
    {
      "cell_type": "code",
      "source": [
        "np.save(\"mem_usage.npy\",np.array((n_values,memory_usage)))#Saves the data as numpy file"
      ],
      "metadata": {
        "id": "mMa9THE40um9"
      },
      "execution_count": null,
      "outputs": []
    },
    {
      "cell_type": "code",
      "execution_count": null,
      "metadata": {
        "id": "7k4qlG2LZToK",
        "colab": {
          "base_uri": "https://localhost:8080/",
          "height": 449
        },
        "outputId": "e0f09ff2-9c4b-4e22-de43-0c5c1cadeb22"
      },
      "outputs": [
        {
          "output_type": "display_data",
          "data": {
            "text/plain": [
              "<Figure size 640x480 with 1 Axes>"
            ],
            "image/png": "[encoded data removed]"
          },
          "metadata": {}
        }
      ],
      "source": [
        "fig, ax = plt.subplots()\n",
        "ax.plot(n_values, memory_usage, 'o-')\n",
        "ax.set_xlabel('Number of particles (N)')\n",
        "ax.set_ylabel('Memory usage (MB)')\n",
        "fig.savefig('memory_usage.png')\n"
      ]
    },
    {
      "cell_type": "code",
      "execution_count": null,
      "metadata": {
        "colab": {
          "base_uri": "https://localhost:8080/",
          "height": 260
        },
        "id": "Xu4eJQW1mFkk",
        "outputId": "efc242bc-a352-47a1-ad82-baec0460bab4"
      },
      "outputs": [
        {
          "data": {
            "image/png": "[encoded data removed]",
            "text/plain": [
              "<Figure size 432x288 with 1 Axes>"
            ]
          },
          "metadata": {},
          "output_type": "display_data"
        }
      ],
      "source": [
        "import matplotlib.pyplot as plt\n",
        "from mpl_toolkits.mplot3d import Axes3D\n",
        "\n",
        "fig = plt.figure()\n",
        "ax = fig.add_subplot(111, projection='3d')\n",
        "\n",
        "# Plot bulge particles\n",
        "ax.scatter(X_bulge, Y_bulge, Z_bulge,marker ='.', c='r', alpha=0.5)\n",
        "\n",
        "# Plot disk particles\n",
        "ax.scatter(X_disk, Y_disk, Z_disk,marker ='.', c='g', alpha=0.5)\n",
        "\n",
        "# Plot halo particles\n",
        "ax.scatter(X_halo, Y_halo, Z_halo,marker ='.', c='b', alpha=0.5)\n",
        "\n",
        "# Set axis labels\n",
        "ax.set_xlabel('X (kpc)')\n",
        "ax.set_ylabel('Y (kpc)')\n",
        "ax.set_zlabel('Z (kpc)')\n",
        "\n",
        "# Set axis limits\n",
        "ax.set_xlim(-10, 10)\n",
        "ax.set_ylim(-10, 10)\n",
        "ax.set_zlim(-10, 10)\n",
        "\n",
        "# Save the figure\n",
        "plt.savefig(\"initial_config.png\")\n",
        "\n",
        "# Show the figure\n",
        "plt.show()\n"
      ]
    }
  ],
  "metadata": {
    "colab": {
      "provenance": [],
      "authorship_tag": "ABX9TyM6npH8O6+rTDGRQPHtMEda",
      "include_colab_link": true
    },
    "gpuClass": "standard",
    "kernelspec": {
      "display_name": "Python 3",
      "name": "python3"
    },
    "language_info": {
      "name": "python"
    }
  },
  "nbformat": 4,
  "nbformat_minor": 0
}